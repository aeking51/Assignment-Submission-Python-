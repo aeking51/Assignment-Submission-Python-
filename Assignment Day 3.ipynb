{
  "nbformat": 4,
  "nbformat_minor": 0,
  "metadata": {
    "colab": {
      "name": "Untitled0.ipynb",
      "provenance": [],
      "collapsed_sections": [],
      "authorship_tag": "ABX9TyOEdPQ38r654K9vNpTD11Gl",
      "include_colab_link": true
    },
    "kernelspec": {
      "name": "python3",
      "display_name": "Python 3"
    },
    "language_info": {
      "name": "python"
    }
  },
  "cells": [
    {
      "cell_type": "markdown",
      "metadata": {
        "id": "view-in-github",
        "colab_type": "text"
      },
      "source": [
        "<a href=\"https://colab.research.google.com/github/aeking51/Assignment-Submission-Python-/blob/main/Assignment%20Day%203.ipynb\" target=\"_parent\"><img src=\"https://colab.research.google.com/assets/colab-badge.svg\" alt=\"Open In Colab\"/></a>"
      ]
    },
    {
      "cell_type": "code",
      "metadata": {
        "id": "ToJAcnHkem6H",
        "colab": {
          "base_uri": "https://localhost:8080/"
        },
        "outputId": "94dcaa03-a577-4747-e5bd-9fb07d183ef5"
      },
      "source": [
        "def mod_div(fun):\n",
        "  def inner(a, b):\n",
        "    if a < b:\n",
        "      a, b = b, a\n",
        "    fun(a, b)   \n",
        " \n",
        "  return inner\n",
        " \n",
        "@mod_div\n",
        "def div(a, b):\n",
        "  print(a / b)\n",
        " \n",
        "div(2, 4)"
      ],
      "execution_count": 6,
      "outputs": [
        {
          "output_type": "stream",
          "text": [
            "2.0\n"
          ],
          "name": "stdout"
        }
      ]
    }
  ]
}