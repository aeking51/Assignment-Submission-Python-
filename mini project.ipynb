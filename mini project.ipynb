{
  "nbformat": 4,
  "nbformat_minor": 0,
  "metadata": {
    "colab": {
      "name": "Untitled0.ipynb",
      "provenance": [],
      "collapsed_sections": [],
      "authorship_tag": "ABX9TyMqZkNBrJgv0pxIQdLdNOPb",
      "include_colab_link": true
    },
    "kernelspec": {
      "name": "python3",
      "display_name": "Python 3"
    },
    "language_info": {
      "name": "python"
    }
  },
  "cells": [
    {
      "cell_type": "markdown",
      "metadata": {
        "id": "view-in-github",
        "colab_type": "text"
      },
      "source": [
        "<a href=\"https://colab.research.google.com/github/aeking51/Assignment-Submission-Python-/blob/main/mini%20project.ipynb\" target=\"_parent\"><img src=\"https://colab.research.google.com/assets/colab-badge.svg\" alt=\"Open In Colab\"/></a>"
      ]
    },
    {
      "cell_type": "code",
      "metadata": {
        "id": "e94iCqJDd4-x",
        "colab": {
          "base_uri": "https://localhost:8080/"
        },
        "outputId": "bd277c46-60ca-412f-918e-2a971c1bd9ae"
      },
      "source": [
        "import random\n",
        "import string\n",
        " \n",
        "id = ' '\n",
        "characters_list = list(string.ascii_letters + string.digits)\n",
        "for i in range(6):\n",
        "  id += random.choice(characters_list)\n",
        " \n",
        "print(id)"
      ],
      "execution_count": null,
      "outputs": [
        {
          "output_type": "stream",
          "text": [
            " 714BxC\n"
          ],
          "name": "stdout"
        }
      ]
    }
  ]
}